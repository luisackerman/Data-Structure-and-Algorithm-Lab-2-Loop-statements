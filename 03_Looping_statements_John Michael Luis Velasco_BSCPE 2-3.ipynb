{
  "cells": [
    {
      "cell_type": "markdown",
      "metadata": {},
      "source": [
        "# John Michael Luis P. Velasco | BSCPE 2-3"
      ]
    },
    {
      "cell_type": "markdown",
      "metadata": {},
      "source": [
        "# Laboratory 2 Exercise #1"
      ]
    },
    {
      "cell_type": "code",
      "execution_count": 1,
      "metadata": {},
      "outputs": [
        {
          "name": "stdout",
          "output_type": "stream",
          "text": [
            "128\n"
          ]
        }
      ],
      "source": [
        "def power(base, exponent):\n",
        "    if exponent == 0:\n",
        "        return 1\n",
        "    return base * power(base, exponent - 1)\n",
        "\n",
        "while True:\n",
        "    try:\n",
        "        base = int(input(\"Enter the base (a number): \"))\n",
        "        exponent = int(input(\"Enter the exponent (a non-negative integer): \"))\n",
        "        \n",
        "        if exponent < 0:\n",
        "            raise ValueError(\"Exponent must be a non-negative integer.\")\n",
        "        \n",
        "        result = power(base, exponent)\n",
        "        print(f\"{base}^{exponent} = {result}\")\n",
        "        break \n",
        "\n",
        "    except ValueError as e:\n",
        "        print(f\"Error: {e}. Please try again.\")\n"
      ]
    },
    {
      "cell_type": "markdown",
      "metadata": {},
      "source": [
        "# Laboratory 2 Exercise #2"
      ]
    },
    {
      "cell_type": "code",
      "execution_count": 2,
      "metadata": {},
      "outputs": [
        {
          "name": "stdout",
          "output_type": "stream",
          "text": [
            "27\n",
            "1000\n",
            "8000\n"
          ]
        }
      ],
      "source": [
        "size = int(input(\"Enter the size of the array: \"))\n",
        "\n",
        "elements = list(map(int, input(\"Enter the elements separated by space: \").split()))\n",
        "\n",
        "print(\"The cubes of the elements are:\")\n",
        "for element in elements:\n",
        "    print(element ** 3)"
      ]
    },
    {
      "cell_type": "markdown",
      "metadata": {},
      "source": [
        "# Laboratory 2 Exercise #3"
      ]
    },
    {
      "cell_type": "code",
      "execution_count": 1,
      "metadata": {},
      "outputs": [
      ],
      "source": [
        "n = int(input(\"Enter the side length of the square: \"))\n",
        "for i in range(n):\n",
        "    if i == 0 or i == n-1: \n",
        "        print('x' * n)\n",
        "    else:\n",
        "        print('x' + ' ' * (n-2) + 'x')"
      ]
    },
    {
      "cell_type": "markdown",
      "metadata": {},
      "source": [
        "# Laboratory 2 Exercise #4"
      ]
    },
    {
      "cell_type": "code",
      "execution_count": null,
      "metadata": {},
      "outputs": [],
      "source": [
        "n = int(input(\"Enter the height of the triangle: \"))\n",
        "for i in range(n, 0, -1):\n",
        "    print('*' * i)"
      ]
    },
    {
      "cell_type": "code",
      "execution_count": null,
      "metadata": {},
      "outputs": [],
      "source": [
        "******\n",
        "*****\n",
        "****\n",
        "***\n",
        "**\n",
        "*"
      ]
    }
  ],
  "metadata": {
    "kernelspec": {
      "display_name": "Python 3",
      "language": "python",
      "name": "python3"
    },
    "language_info": {
      "codemirror_mode": {
        "name": "ipython",
        "version": 3
      },
      "file_extension": ".py",
      "mimetype": "text/x-python",
      "name": "python",
      "nbconvert_exporter": "python",
      "pygments_lexer": "ipython3",
      "version": "3.11.9"
    }
  },
  "nbformat": 4,
  "nbformat_minor": 4
}
